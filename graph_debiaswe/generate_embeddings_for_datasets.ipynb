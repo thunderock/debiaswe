{
 "cells": [
  {
   "cell_type": "code",
   "execution_count": 1,
   "id": "2da3e7a4",
   "metadata": {},
   "outputs": [],
   "source": [
    "import os, sys\n",
    "residual2vec_ = '../../residual2vec_'\n",
    "sys.path.insert(0, residual2vec_)"
   ]
  },
  {
   "cell_type": "code",
   "execution_count": 2,
   "id": "2ccfeb96",
   "metadata": {},
   "outputs": [
    {
     "name": "stderr",
     "output_type": "stream",
     "text": [
      "/data/sg/ashutiwa/miniconda3/lib/python3.7/site-packages/tqdm/auto.py:22: TqdmWarning: IProgress not found. Please update jupyter and ipywidgets. See https://ipywidgets.readthedocs.io/en/stable/user_install.html\n",
      "  from .autonotebook import tqdm as notebook_tqdm\n"
     ]
    },
    {
     "name": "stdout",
     "output_type": "stream",
     "text": [
      "Using GPU: cuda:0\n"
     ]
    }
   ],
   "source": [
    "import numpy as np\n",
    "import pandas as pd\n",
    "import networkx as nx\n",
    "import matplotlib.pyplot as plt\n",
    "import seaborn as sns\n",
    "from sklearn.decomposition import PCA\n",
    "from debias_graph import debias_wrapper\n",
    "from we import doPCA\n",
    "from we_utils import get_direction\n",
    "from utils import graph_utils\n",
    "from models import fast_knn_cpu\n",
    "from tqdm import tqdm"
   ]
  },
  {
   "cell_type": "code",
   "execution_count": 3,
   "id": "c5d8fe01",
   "metadata": {},
   "outputs": [],
   "source": [
    "BASE = \"../../final_128/{}/\"\n",
    "\n",
    "def get_embs(dataset, run_no, deepwalk):\n",
    "    y = pd.read_csv(BASE.format(dataset) + \"node_table.csv\").group_id.values\n",
    "    deepwalk = np.load(BASE.format(dataset) + \"{}_{}/{}_{}.npy\".format(dataset, \n",
    "                                                                     run_no, dataset, \n",
    "                                                                       \"deepwalk\" if deepwalk else \"node2vec\"))\n",
    "    \n",
    "    \n",
    "    centroids = graph_utils.get_centroid_per_group(deepwalk, y)\n",
    "    # definitional words, these are supposed to be represent the group,\n",
    "    # in this case lets take these to be the nodes closest to centroid of group\n",
    "    # in this case are the centroids of the groups\n",
    "    definitional = graph_utils.get_n_nearest_neighbors_for_nodes(\n",
    "        nodes=centroids, \n",
    "        embs=deepwalk,\n",
    "        k=1,\n",
    "        metric='cosine'\n",
    "    )\n",
    "    \n",
    "    N, dim = deepwalk.shape\n",
    "    K = np.unique(y).shape[0]\n",
    "    \n",
    "    gender_specific_nodes = graph_utils.get_n_nearest_neighbors_for_nodes(\n",
    "        nodes=centroids, \n",
    "        embs=deepwalk,\n",
    "        k=int (.2 * N) // K,\n",
    "        metric='cosine'\n",
    "    )\n",
    "    equalize = graph_utils.get_farthest_pairs(deepwalk, y, same_class=False, \n",
    "                                              per_class_count=1)\n",
    "    \n",
    "    direction = get_direction(deepwalk, y, \"PCA\")\n",
    "    \n",
    "    return debias_wrapper(emb=deepwalk, gender_specific_words=gender_specific_nodes, \n",
    "               definitional=None, equalize=equalize, y=y, direction=direction,\n",
    "                          drop_gender_specific_words=True)\n",
    "            \n",
    "    \n",
    "    "
   ]
  },
  {
   "cell_type": "code",
   "execution_count": 4,
   "id": "326ca882",
   "metadata": {},
   "outputs": [
    {
     "name": "stderr",
     "output_type": "stream",
     "text": [
      "polbook_deepwalk: 100%|██████████████████████████| 5/5 [00:00<00:00, 80.13it/s]\n",
      "polbook_node2vec: 100%|█████████████████████████| 5/5 [00:00<00:00, 113.45it/s]\n",
      "polblog_deepwalk: 100%|██████████████████████████| 5/5 [00:00<00:00, 27.55it/s]\n",
      "polblog_node2vec: 100%|██████████████████████████| 5/5 [00:00<00:00, 34.66it/s]\n",
      "airport_deepwalk: 100%|██████████████████████████| 5/5 [00:00<00:00, 11.05it/s]\n",
      "airport_node2vec: 100%|██████████████████████████| 5/5 [00:00<00:00, 10.66it/s]\n"
     ]
    }
   ],
   "source": [
    "datasets = [\"polbook\", \"polblog\", \"airport\", \"pokec\"]\n",
    "\n",
    "runs = [\"one\", \"two\", \"three\", \"four\", \"five\"]\n",
    "\n",
    "for dataset in datasets:\n",
    "    for directory in tqdm(runs, desc=dataset + \"_deepwalk\"):\n",
    "        embs = get_embs(dataset=dataset, run_no=directory, deepwalk=True)\n",
    "        np.save(BASE.format(dataset) + \"{}_{}/{}_baseline_man_woman+deepwalk.npy\".format(\n",
    "            dataset, directory, dataset),\n",
    "               embs)\n",
    "    \n",
    "    for directory in tqdm(runs, desc=dataset + \"_node2vec\"):\n",
    "        embs = get_embs(dataset=dataset, run_no=directory, deepwalk=False)\n",
    "        np.save(BASE.format(dataset) + \"{}_{}/{}_baseline_man_woman+node2vec.npy\".format(\n",
    "            dataset, directory, dataset),\n",
    "               embs)\n",
    "        "
   ]
  },
  {
   "cell_type": "code",
   "execution_count": 5,
   "id": "f764d6cb",
   "metadata": {},
   "outputs": [],
   "source": [
    "# dataset = \"pokec\"\n",
    "# run_no = \"one\""
   ]
  },
  {
   "cell_type": "code",
   "execution_count": 6,
   "id": "36ed14ed",
   "metadata": {},
   "outputs": [],
   "source": [
    "# y = pd.read_csv(BASE.format(dataset) + \"node_table.csv\").group_id.values\n",
    "# deepwalk = np.load(BASE.format(dataset) + \"{}_{}/{}_deepwalk.npy\".format(dataset, \n",
    "#                                                                  run_no, dataset))\n",
    "# centroids = graph_utils.get_centroid_per_group(deepwalk, y)\n",
    "# definitional = graph_utils.get_n_nearest_neighbors_for_nodes(\n",
    "#         nodes=centroids, \n",
    "#         embs=deepwalk,\n",
    "#         k=1,\n",
    "#         metric='cosine'\n",
    "#     )\n",
    "    \n",
    "# dim = deepwalk.shape[1]\n",
    "# N = np.unique(y).shape[0]\n",
    "# gender_specific_nodes = graph_utils.get_n_nearest_neighbors_for_nodes(\n",
    "#     nodes=centroids, \n",
    "#     embs=deepwalk,\n",
    "#     k=10,\n",
    "#     metric='cosine'\n",
    "# )\n",
    "# equalize = graph_utils.get_farthest_pairs(deepwalk, y, same_class=False, \n",
    "#                                               per_class_count=1)\n"
   ]
  }
 ],
 "metadata": {
  "kernelspec": {
   "display_name": "Python 3 (ipykernel)",
   "language": "python",
   "name": "python3"
  },
  "language_info": {
   "codemirror_mode": {
    "name": "ipython",
    "version": 3
   },
   "file_extension": ".py",
   "mimetype": "text/x-python",
   "name": "python",
   "nbconvert_exporter": "python",
   "pygments_lexer": "ipython3",
   "version": "3.7.13"
  }
 },
 "nbformat": 4,
 "nbformat_minor": 5
}
