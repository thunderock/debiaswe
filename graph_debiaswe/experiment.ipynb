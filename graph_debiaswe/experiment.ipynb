{
 "cells": [
  {
   "cell_type": "code",
   "execution_count": 1,
   "id": "2da3e7a4",
   "metadata": {},
   "outputs": [],
   "source": [
    "import os, sys\n",
    "residual2vec_ = '../../residual2vec_'\n",
    "sys.path.insert(0, residual2vec_)"
   ]
  },
  {
   "cell_type": "code",
   "execution_count": 2,
   "id": "2ccfeb96",
   "metadata": {},
   "outputs": [
    {
     "name": "stderr",
     "output_type": "stream",
     "text": [
      "/data/sg/ashutiwa/miniconda3/lib/python3.7/site-packages/tqdm/auto.py:22: TqdmWarning: IProgress not found. Please update jupyter and ipywidgets. See https://ipywidgets.readthedocs.io/en/stable/user_install.html\n",
      "  from .autonotebook import tqdm as notebook_tqdm\n"
     ]
    },
    {
     "name": "stdout",
     "output_type": "stream",
     "text": [
      "Using GPU: cuda:0\n"
     ]
    }
   ],
   "source": [
    "import numpy as np\n",
    "import pandas as pd\n",
    "import networkx as nx\n",
    "import matplotlib.pyplot as plt\n",
    "import seaborn as sns\n",
    "from sklearn.decomposition import PCA\n",
    "from debias_graph import debias_wrapper\n",
    "from utils import graph_utils\n",
    "from models import fast_knn_cpu\n"
   ]
  },
  {
   "cell_type": "code",
   "execution_count": 3,
   "id": "326ca882",
   "metadata": {},
   "outputs": [
    {
     "data": {
      "text/plain": [
       "array([2, 0, 0, 0, 2, 0, 2, 2, 0, 0, 0, 0, 0, 0, 0, 0, 0, 0, 2, 0, 0, 0,\n",
       "       0, 0, 0, 0, 0, 0, 2, 0, 1, 1, 0, 0, 0, 0, 0, 0, 0, 0, 0, 0, 0, 0,\n",
       "       0, 0, 2, 0, 2, 0, 0, 2, 0, 0, 0, 0, 0, 0, 0, 1, 1, 1, 1, 1, 1, 1,\n",
       "       1, 1, 1, 2, 1, 1, 1, 1, 1, 1, 2, 0, 1, 1, 1, 1, 1, 1, 1, 1, 1, 1,\n",
       "       1, 1, 1, 1, 1, 1, 1, 1, 1, 1, 1, 1, 1, 1, 1, 2, 2])"
      ]
     },
     "execution_count": 3,
     "metadata": {},
     "output_type": "execute_result"
    }
   ],
   "source": [
    "dataset = \"polbook\"\n",
    "# group values for each node\n",
    "y = pd.read_csv(\"../../final_128/{}/node_table.csv\".format(dataset)).group_id.values\n",
    "y"
   ]
  },
  {
   "cell_type": "code",
   "execution_count": 4,
   "id": "6988a220",
   "metadata": {},
   "outputs": [],
   "source": [
    "def plot_embs(emb, y, pallete=None, method='PCA', title=\"no_idea\"):\n",
    "    if not pallete:\n",
    "        pallete = {0: \"blue\", 1: \"red\", 2: \"purple\"}\n",
    "    n = y.shape[0]\n",
    "    if method == \"PCA\":\n",
    "        xy = PCA(n_components=2).fit_transform(emb)\n",
    "    else:\n",
    "        pass\n",
    "    \n",
    "    df = pd.DataFrame({\n",
    "        \"x\": xy[:, 0],\n",
    "        \"y\": xy[:,1],\n",
    "        \"hue\": y,\n",
    "    })\n",
    "    sns.scatterplot(df, x=\"x\", y=\"y\", hue=\"hue\", palette=pallete )\n",
    "    plt.title(title)"
   ]
  },
  {
   "cell_type": "code",
   "execution_count": 5,
   "id": "a6e7d521",
   "metadata": {},
   "outputs": [],
   "source": [
    "# load \n",
    "\n",
    "embs = np.load(\"../../final_128/{}/{}_one/{}_deepwalk.npy\".format(dataset, dataset, dataset))\n"
   ]
  },
  {
   "cell_type": "code",
   "execution_count": 6,
   "id": "d9c58da2",
   "metadata": {},
   "outputs": [],
   "source": [
    "# definitional words, these are supposed to be represent the group,\n",
    "# in this case lets take these to be the nodes closest to centroid of group\n",
    "# in this case are the centroids of the groups\n",
    "\n",
    "centroids = graph_utils.get_centroid_per_group(embs, y)\n",
    "definitional = graph_utils.get_n_nearest_neighbors_for_nodes(\n",
    "    nodes=centroids, \n",
    "    embs=embs,\n",
    "    k=1,\n",
    "    metric='cosine'\n",
    ")\n",
    "\n",
    "# create pairs\n",
    "dim = embs.shape[1]\n",
    "defn = np.zeros((3, 2))\n",
    "\n",
    "defn[0, 0] = definitional[1]\n",
    "defn[0, 1] = definitional[2]\n",
    "\n",
    "defn[1, 0] = definitional[0]\n",
    "defn[1, 1] = definitional[2]\n",
    "\n",
    "defn[2, 0] = definitional[0]\n",
    "defn[2, 1] = definitional[1]"
   ]
  },
  {
   "cell_type": "code",
   "execution_count": 7,
   "id": "7df5ef00",
   "metadata": {},
   "outputs": [],
   "source": [
    "# gender specific nodes, these are used to figure out which nodes should be normalized, \n",
    "# in paper \"neutralization\", in our case picking ones which have closest to these centroid \n",
    "# for each group\n",
    "\n",
    "gender_specific_nodes = graph_utils.get_n_nearest_neighbors_for_nodes(\n",
    "    nodes=centroids, \n",
    "    embs=embs,\n",
    "    k=10,\n",
    "    metric='cosine'\n",
    ")\n"
   ]
  },
  {
   "cell_type": "code",
   "execution_count": 8,
   "id": "4e2618e1",
   "metadata": {},
   "outputs": [
    {
     "name": "stderr",
     "output_type": "stream",
     "text": [
      "100%|████████████████████████████████████████████████████████████████████████████████████████████████████| 3/3 [00:00<00:00, 223.72it/s]\n"
     ]
    }
   ],
   "source": [
    "# equalize words, these words should be equidistant from gender plane, in our case \n",
    "# these are most distant pairs of different classes \n",
    "equalize = graph_utils.get_farthest_pairs(embs, y, same_class=False, per_class_count=1)"
   ]
  },
  {
   "cell_type": "code",
   "execution_count": 9,
   "id": "bc04bdd8",
   "metadata": {},
   "outputs": [
    {
     "data": {
      "text/plain": [
       "((3, 1), (3, 2), (3, 10))"
      ]
     },
     "execution_count": 9,
     "metadata": {},
     "output_type": "execute_result"
    }
   ],
   "source": [
    "definitional.shape, equalize.shape, gender_specific_nodes.shape"
   ]
  },
  {
   "cell_type": "code",
   "execution_count": 10,
   "id": "fce78a1f",
   "metadata": {},
   "outputs": [],
   "source": [
    "emb = debias_wrapper(emb=embs, gender_specific_words=gender_specific_nodes, \n",
    "               definitional=defn, equalize=equalize, y=y)"
   ]
  },
  {
   "cell_type": "code",
   "execution_count": 11,
   "id": "97539a89",
   "metadata": {},
   "outputs": [
    {
     "data": {
      "image/png": "[encoded data removed]",
      "text/plain": [
       "<Figure size 432x288 with 1 Axes>"
      ]
     },
     "metadata": {
      "needs_background": "light"
     },
     "output_type": "display_data"
    }
   ],
   "source": [
    "plot_embs(embs, y, title=\"original\")"
   ]
  },
  {
   "cell_type": "code",
   "execution_count": 12,
   "id": "392958db",
   "metadata": {},
   "outputs": [
    {
     "data": {
      "image/png": "[encoded data removed]",
      "text/plain": [
       "<Figure size 432x288 with 1 Axes>"
      ]
     },
     "metadata": {
      "needs_background": "light"
     },
     "output_type": "display_data"
    }
   ],
   "source": [
    "plot_embs(emb, y, title=\"debiased\")"
   ]
  }
 ],
 "metadata": {
  "kernelspec": {
   "display_name": "Python 3 (ipykernel)",
   "language": "python",
   "name": "python3"
  },
  "language_info": {
   "codemirror_mode": {
    "name": "ipython",
    "version": 3
   },
   "file_extension": ".py",
   "mimetype": "text/x-python",
   "name": "python",
   "nbconvert_exporter": "python",
   "pygments_lexer": "ipython3",
   "version": "3.7.13"
  }
 },
 "nbformat": 4,
 "nbformat_minor": 5
}
