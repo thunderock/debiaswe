{
 "cells": [
  {
   "cell_type": "code",
   "execution_count": 1,
   "id": "2da3e7a4",
   "metadata": {},
   "outputs": [],
   "source": [
    "import os, sys\n"
   ]
  },
  {
   "cell_type": "code",
   "execution_count": 2,
   "id": "2ccfeb96",
   "metadata": {},
   "outputs": [],
   "source": [
    "import numpy as np\n",
    "import pandas as pd\n",
    "import networkx as nx\n",
    "import matplotlib.pyplot as plt\n",
    "import seaborn as sns\n",
    "from sklearn.decomposition import PCA\n",
    "from debias_graph import debias_wrapper"
   ]
  },
  {
   "cell_type": "code",
   "execution_count": 3,
   "id": "326ca882",
   "metadata": {},
   "outputs": [
    {
     "data": {
      "text/plain": [
       "array([2, 0, 0, 0, 2, 0, 2, 2, 0, 0, 0, 0, 0, 0, 0, 0, 0, 0, 2, 0, 0, 0,\n",
       "       0, 0, 0, 0, 0, 0, 2, 0, 1, 1, 0, 0, 0, 0, 0, 0, 0, 0, 0, 0, 0, 0,\n",
       "       0, 0, 2, 0, 2, 0, 0, 2, 0, 0, 0, 0, 0, 0, 0, 1, 1, 1, 1, 1, 1, 1,\n",
       "       1, 1, 1, 2, 1, 1, 1, 1, 1, 1, 2, 0, 1, 1, 1, 1, 1, 1, 1, 1, 1, 1,\n",
       "       1, 1, 1, 1, 1, 1, 1, 1, 1, 1, 1, 1, 1, 1, 1, 2, 2])"
      ]
     },
     "execution_count": 3,
     "metadata": {},
     "output_type": "execute_result"
    }
   ],
   "source": [
    "dataset = \"polbook\"\n",
    "# group values for each node\n",
    "y = pd.read_csv(\"../../final_128/{}/node_table.csv\".format(dataset)).group_id.values\n",
    "y"
   ]
  },
  {
   "cell_type": "code",
   "execution_count": 4,
   "id": "6988a220",
   "metadata": {},
   "outputs": [],
   "source": [
    "def plot_embs(emb, y, pallete=sns.color_palette(\"colorblind\",), method='PCA'):\n",
    "    n = y.shape[0]\n",
    "    if method == \"PCA\":\n",
    "        xy = PCA(n_components=2).fit_transform(emb)\n",
    "    else:\n",
    "        pass\n",
    "    \n",
    "    df = pd.DataFrame({\n",
    "        \"x\": xy[:, 0],\n",
    "        \"y\": xy[:,1],\n",
    "        \"hue\": y,\n",
    "    })\n",
    "    sns.scatterplot(df, x=\"x\", y=\"y\", hue=\"hue\", palette=pallete )"
   ]
  },
  {
   "cell_type": "code",
   "execution_count": 5,
   "id": "a6e7d521",
   "metadata": {},
   "outputs": [
    {
     "data": {
      "image/png": "[encoded data removed]",
      "text/plain": [
       "<Figure size 432x288 with 1 Axes>"
      ]
     },
     "metadata": {
      "needs_background": "light"
     },
     "output_type": "display_data"
    }
   ],
   "source": [
    "# load \n",
    "colors = {0: \"blue\", 1: \"red\", 2: \"purple\"}\n",
    "embs = np.load(\"../../final_128/{}/{}_one/{}_deepwalk.npy\".format(dataset, dataset, dataset))\n",
    "plot_embs(embs, y, colors)"
   ]
  },
  {
   "cell_type": "code",
   "execution_count": 7,
   "id": "d9c58da2",
   "metadata": {},
   "outputs": [],
   "source": [
    "# definitional words, in this case are the centroids of the groups\n",
    "\n",
    "def get_centroids(emb, groups):\n",
    "    n = len(groups)\n",
    "    uy, y = np.unique(groups, return_inverse=True)\n",
    "    K = len(uy) # number of classes\n",
    "    centroids = np.zeros((K, emb.shape[1]))\n",
    "    for k in range(K):\n",
    "        centroids[k] = embs[y == k].mean(axis=0)\n",
    "    return centroids\n",
    "\n",
    "definitional = get_centroids(embs, y)"
   ]
  },
  {
   "cell_type": "code",
   "execution_count": 8,
   "id": "7df5ef00",
   "metadata": {},
   "outputs": [
    {
     "data": {
      "text/plain": [
       "(3, 128)"
      ]
     },
     "execution_count": 8,
     "metadata": {},
     "output_type": "execute_result"
    }
   ],
   "source": [
    "# gender specific nodes, these are used to figure out which nodes should be normalized, \n",
    "# in paper \"nuetralization\", in our case picking ones which have \n",
    "\n"
   ]
  },
  {
   "cell_type": "code",
   "execution_count": null,
   "id": "c3634092",
   "metadata": {},
   "outputs": [],
   "source": []
  }
 ],
 "metadata": {
  "kernelspec": {
   "display_name": "Python 3 (ipykernel)",
   "language": "python",
   "name": "python3"
  },
  "language_info": {
   "codemirror_mode": {
    "name": "ipython",
    "version": 3
   },
   "file_extension": ".py",
   "mimetype": "text/x-python",
   "name": "python",
   "nbconvert_exporter": "python",
   "pygments_lexer": "ipython3",
   "version": "3.7.13"
  }
 },
 "nbformat": 4,
 "nbformat_minor": 5
}
